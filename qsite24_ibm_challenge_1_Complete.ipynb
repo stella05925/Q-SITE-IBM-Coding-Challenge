{
  "cells": [
    {
      "cell_type": "markdown",
      "metadata": {
        "id": "dAlnRZ_Ou6iE"
      },
      "source": [
        "# Q-SITE 2024: IBM Quantum Hackathon\n",
        "\n",
        "## Lab 1: First Steps\n",
        "\n",
        "Welcome to the IBM Quantum Hackathon at Q-SITE 2024!\n",
        "\n",
        "IBM has created a series of coding challenges for you to work through. Each of these \"labs\" centers on a different topic. The problems contained in each lab will progressively increase in difficulty. To complete these labs, you will need to know about coding in the Python language. Each lab will contain a mixture of tutorial content and pre-written code blocks, and challenge code blocks where you will need to fill in your own Qiskit code to solve the challenge.\n",
        "\n",
        "The code required to complete the exercises should be typed under the line which has the `## WRITE YOUR CODE BELOW HERE ##` comment. Avoid making changes to any provided code as this could alter how other code in the notebook functions. You will submit answers to the grader methods that are called in this notebook. This lab has 3 graded exercises.\n",
        "\n",
        "Before you can start working with Qiskit and these lab notebooks, you will need a computing environment in which to code and run the notebooks. You have a couple of options:\n",
        "- Install Qiskit and the Qiskit Runtime client locally on your computer along with Jupyter notebooks. See here for instructions: https://docs.quantum.ibm.com/guides/install-qiskit\n",
        "- Use an online coding notebook environment (e.g. Colab, qBraid). You may need to install Qiskit from within notebook cells using the `!pip install qiskit qiskit_ibm_runtime` command.\n",
        "\n",
        "You will also need an account on the IBM Quantum Platform: https://quantum.ibm.com/ . Sign-up for free to run quantum circuits on real hardware available from our open-access quantum computers in the cloud. You'll be provided with up to 10 minutes per month of quantum runtime on the open access systems.\n",
        "\n",
        "Documentation for Qiskit can be found here: https://docs.quantum.ibm.com/.\n",
        "\n",
        "In this first introductory lab, you will take your first steps on using Qiskit to compose quantum algorithms to solve problems."
      ]
    },
    {
      "cell_type": "code",
      "source": [
        "!pip install qiskit qiskit_ibm_runtime"
      ],
      "metadata": {
        "colab": {
          "base_uri": "https://localhost:8080/"
        },
        "collapsed": true,
        "id": "bkEQGSJovfMq",
        "outputId": "d7d85f4f-626b-49ab-9420-a5d21a87c1bc"
      },
      "execution_count": 1,
      "outputs": [
        {
          "output_type": "stream",
          "name": "stdout",
          "text": [
            "Collecting qiskit\n",
            "  Downloading qiskit-1.2.2-cp38-abi3-manylinux_2_17_x86_64.manylinux2014_x86_64.whl.metadata (12 kB)\n",
            "Collecting qiskit_ibm_runtime\n",
            "  Downloading qiskit_ibm_runtime-0.30.0-py3-none-any.whl.metadata (19 kB)\n",
            "Collecting rustworkx>=0.15.0 (from qiskit)\n",
            "  Downloading rustworkx-0.15.1-cp38-abi3-manylinux_2_17_x86_64.manylinux2014_x86_64.whl.metadata (9.9 kB)\n",
            "Requirement already satisfied: numpy<3,>=1.17 in /usr/local/lib/python3.10/dist-packages (from qiskit) (1.26.4)\n",
            "Requirement already satisfied: scipy>=1.5 in /usr/local/lib/python3.10/dist-packages (from qiskit) (1.13.1)\n",
            "Requirement already satisfied: sympy>=1.3 in /usr/local/lib/python3.10/dist-packages (from qiskit) (1.13.3)\n",
            "Collecting dill>=0.3 (from qiskit)\n",
            "  Downloading dill-0.3.8-py3-none-any.whl.metadata (10 kB)\n",
            "Requirement already satisfied: python-dateutil>=2.8.0 in /usr/local/lib/python3.10/dist-packages (from qiskit) (2.8.2)\n",
            "Collecting stevedore>=3.0.0 (from qiskit)\n",
            "  Downloading stevedore-5.3.0-py3-none-any.whl.metadata (2.3 kB)\n",
            "Requirement already satisfied: typing-extensions in /usr/local/lib/python3.10/dist-packages (from qiskit) (4.12.2)\n",
            "Collecting symengine>=0.11 (from qiskit)\n",
            "  Downloading symengine-0.11.0-cp310-cp310-manylinux_2_12_x86_64.manylinux2010_x86_64.whl.metadata (1.2 kB)\n",
            "Requirement already satisfied: requests>=2.19 in /usr/local/lib/python3.10/dist-packages (from qiskit_ibm_runtime) (2.32.3)\n",
            "Collecting requests-ntlm>=1.1.0 (from qiskit_ibm_runtime)\n",
            "  Downloading requests_ntlm-1.3.0-py3-none-any.whl.metadata (2.4 kB)\n",
            "Requirement already satisfied: urllib3>=1.21.1 in /usr/local/lib/python3.10/dist-packages (from qiskit_ibm_runtime) (2.2.3)\n",
            "Requirement already satisfied: websocket-client>=1.5.1 in /usr/local/lib/python3.10/dist-packages (from qiskit_ibm_runtime) (1.8.0)\n",
            "Collecting ibm-platform-services>=0.22.6 (from qiskit_ibm_runtime)\n",
            "  Downloading ibm_platform_services-0.57.1-py3-none-any.whl.metadata (9.1 kB)\n",
            "Requirement already satisfied: pydantic>=2.5.0 in /usr/local/lib/python3.10/dist-packages (from qiskit_ibm_runtime) (2.9.2)\n",
            "Collecting ibm-cloud-sdk-core<4.0.0,>=3.21.0 (from ibm-platform-services>=0.22.6->qiskit_ibm_runtime)\n",
            "  Downloading ibm_cloud_sdk_core-3.21.0-py3-none-any.whl.metadata (8.5 kB)\n",
            "Requirement already satisfied: annotated-types>=0.6.0 in /usr/local/lib/python3.10/dist-packages (from pydantic>=2.5.0->qiskit_ibm_runtime) (0.7.0)\n",
            "Requirement already satisfied: pydantic-core==2.23.4 in /usr/local/lib/python3.10/dist-packages (from pydantic>=2.5.0->qiskit_ibm_runtime) (2.23.4)\n",
            "Requirement already satisfied: six>=1.5 in /usr/local/lib/python3.10/dist-packages (from python-dateutil>=2.8.0->qiskit) (1.16.0)\n",
            "Requirement already satisfied: charset-normalizer<4,>=2 in /usr/local/lib/python3.10/dist-packages (from requests>=2.19->qiskit_ibm_runtime) (3.3.2)\n",
            "Requirement already satisfied: idna<4,>=2.5 in /usr/local/lib/python3.10/dist-packages (from requests>=2.19->qiskit_ibm_runtime) (3.10)\n",
            "Requirement already satisfied: certifi>=2017.4.17 in /usr/local/lib/python3.10/dist-packages (from requests>=2.19->qiskit_ibm_runtime) (2024.8.30)\n",
            "Requirement already satisfied: cryptography>=1.3 in /usr/local/lib/python3.10/dist-packages (from requests-ntlm>=1.1.0->qiskit_ibm_runtime) (43.0.1)\n",
            "Collecting pyspnego>=0.4.0 (from requests-ntlm>=1.1.0->qiskit_ibm_runtime)\n",
            "  Downloading pyspnego-0.11.1-py3-none-any.whl.metadata (5.4 kB)\n",
            "Collecting pbr>=2.0.0 (from stevedore>=3.0.0->qiskit)\n",
            "  Downloading pbr-6.1.0-py2.py3-none-any.whl.metadata (3.4 kB)\n",
            "Requirement already satisfied: mpmath<1.4,>=1.1.0 in /usr/local/lib/python3.10/dist-packages (from sympy>=1.3->qiskit) (1.3.0)\n",
            "Requirement already satisfied: cffi>=1.12 in /usr/local/lib/python3.10/dist-packages (from cryptography>=1.3->requests-ntlm>=1.1.0->qiskit_ibm_runtime) (1.17.1)\n",
            "Requirement already satisfied: PyJWT<3.0.0,>=2.8.0 in /usr/local/lib/python3.10/dist-packages (from ibm-cloud-sdk-core<4.0.0,>=3.21.0->ibm-platform-services>=0.22.6->qiskit_ibm_runtime) (2.9.0)\n",
            "Requirement already satisfied: pycparser in /usr/local/lib/python3.10/dist-packages (from cffi>=1.12->cryptography>=1.3->requests-ntlm>=1.1.0->qiskit_ibm_runtime) (2.22)\n",
            "Downloading qiskit-1.2.2-cp38-abi3-manylinux_2_17_x86_64.manylinux2014_x86_64.whl (4.7 MB)\n",
            "\u001b[2K   \u001b[90m━━━━━━━━━━━━━━━━━━━━━━━━━━━━━━━━━━━━━━━━\u001b[0m \u001b[32m4.7/4.7 MB\u001b[0m \u001b[31m40.0 MB/s\u001b[0m eta \u001b[36m0:00:00\u001b[0m\n",
            "\u001b[?25hDownloading qiskit_ibm_runtime-0.30.0-py3-none-any.whl (2.9 MB)\n",
            "\u001b[2K   \u001b[90m━━━━━━━━━━━━━━━━━━━━━━━━━━━━━━━━━━━━━━━━\u001b[0m \u001b[32m2.9/2.9 MB\u001b[0m \u001b[31m43.9 MB/s\u001b[0m eta \u001b[36m0:00:00\u001b[0m\n",
            "\u001b[?25hDownloading dill-0.3.8-py3-none-any.whl (116 kB)\n",
            "\u001b[2K   \u001b[90m━━━━━━━━━━━━━━━━━━━━━━━━━━━━━━━━━━━━━━━━\u001b[0m \u001b[32m116.3/116.3 kB\u001b[0m \u001b[31m6.3 MB/s\u001b[0m eta \u001b[36m0:00:00\u001b[0m\n",
            "\u001b[?25hDownloading ibm_platform_services-0.57.1-py3-none-any.whl (343 kB)\n",
            "\u001b[2K   \u001b[90m━━━━━━━━━━━━━━━━━━━━━━━━━━━━━━━━━━━━━━━━\u001b[0m \u001b[32m343.3/343.3 kB\u001b[0m \u001b[31m22.5 MB/s\u001b[0m eta \u001b[36m0:00:00\u001b[0m\n",
            "\u001b[?25hDownloading requests_ntlm-1.3.0-py3-none-any.whl (6.6 kB)\n",
            "Downloading rustworkx-0.15.1-cp38-abi3-manylinux_2_17_x86_64.manylinux2014_x86_64.whl (2.0 MB)\n",
            "\u001b[2K   \u001b[90m━━━━━━━━━━━━━━━━━━━━━━━━━━━━━━━━━━━━━━━━\u001b[0m \u001b[32m2.0/2.0 MB\u001b[0m \u001b[31m35.7 MB/s\u001b[0m eta \u001b[36m0:00:00\u001b[0m\n",
            "\u001b[?25hDownloading stevedore-5.3.0-py3-none-any.whl (49 kB)\n",
            "\u001b[2K   \u001b[90m━━━━━━━━━━━━━━━━━━━━━━━━━━━━━━━━━━━━━━━━\u001b[0m \u001b[32m49.7/49.7 kB\u001b[0m \u001b[31m3.1 MB/s\u001b[0m eta \u001b[36m0:00:00\u001b[0m\n",
            "\u001b[?25hDownloading symengine-0.11.0-cp310-cp310-manylinux_2_12_x86_64.manylinux2010_x86_64.whl (39.4 MB)\n",
            "\u001b[2K   \u001b[90m━━━━━━━━━━━━━━━━━━━━━━━━━━━━━━━━━━━━━━━━\u001b[0m \u001b[32m39.4/39.4 MB\u001b[0m \u001b[31m13.1 MB/s\u001b[0m eta \u001b[36m0:00:00\u001b[0m\n",
            "\u001b[?25hDownloading ibm_cloud_sdk_core-3.21.0-py3-none-any.whl (64 kB)\n",
            "\u001b[2K   \u001b[90m━━━━━━━━━━━━━━━━━━━━━━━━━━━━━━━━━━━━━━━━\u001b[0m \u001b[32m64.4/64.4 kB\u001b[0m \u001b[31m3.6 MB/s\u001b[0m eta \u001b[36m0:00:00\u001b[0m\n",
            "\u001b[?25hDownloading pbr-6.1.0-py2.py3-none-any.whl (108 kB)\n",
            "\u001b[2K   \u001b[90m━━━━━━━━━━━━━━━━━━━━━━━━━━━━━━━━━━━━━━━━\u001b[0m \u001b[32m108.5/108.5 kB\u001b[0m \u001b[31m7.1 MB/s\u001b[0m eta \u001b[36m0:00:00\u001b[0m\n",
            "\u001b[?25hDownloading pyspnego-0.11.1-py3-none-any.whl (130 kB)\n",
            "\u001b[2K   \u001b[90m━━━━━━━━━━━━━━━━━━━━━━━━━━━━━━━━━━━━━━━━\u001b[0m \u001b[32m130.5/130.5 kB\u001b[0m \u001b[31m8.0 MB/s\u001b[0m eta \u001b[36m0:00:00\u001b[0m\n",
            "\u001b[?25hInstalling collected packages: symengine, rustworkx, pbr, dill, stevedore, ibm-cloud-sdk-core, qiskit, pyspnego, ibm-platform-services, requests-ntlm, qiskit_ibm_runtime\n",
            "Successfully installed dill-0.3.8 ibm-cloud-sdk-core-3.21.0 ibm-platform-services-0.57.1 pbr-6.1.0 pyspnego-0.11.1 qiskit-1.2.2 qiskit_ibm_runtime-0.30.0 requests-ntlm-1.3.0 rustworkx-0.15.1 stevedore-5.3.0 symengine-0.11.0\n"
          ]
        }
      ]
    },
    {
      "cell_type": "code",
      "source": [
        "!mkdir -p grader"
      ],
      "metadata": {
        "id": "AZDkuR1R1MCe"
      },
      "execution_count": 9,
      "outputs": []
    },
    {
      "cell_type": "code",
      "execution_count": 10,
      "metadata": {
        "id": "gSeLaCA3u6iF"
      },
      "outputs": [],
      "source": [
        "from grader.qsite24_ibm_grader import *"
      ]
    },
    {
      "cell_type": "markdown",
      "metadata": {
        "id": "5SWb1AIiu6iG"
      },
      "source": [
        "### Part 1: Your first circuit\n",
        "\n",
        "A good first circuit to construct is one that creates a Bell state. It demonstrates two quantum principles that are necessary for quantum computing: superposition and entanglement. You can find more information here: https://en.wikipedia.org/wiki/Bell_state. Here is the circuit:\n",
        "\n",
        "<center>\n",
        "<img src=https://upload.wikimedia.org/wikipedia/commons/f/fc/The_Hadamard-CNOT_transform_on_the_zero-state.png>\n",
        "</center>\n",
        "\n",
        "For this exercise, build a circuit that prepares the 2-qubit Bell state $\\frac{1}{\\sqrt{2}}(|00\\rangle + |11\\rangle)$. The ```QuantumCircuit``` class in Qiskit is our starting point. To create a quantum circuit object, call the ```QuantumCircuit()``` with the number of qubits and number of classical bits to include. The following methods in ```QuantumCircuit``` will be helpful:\n",
        "- ```QuantumCircuit.h(qubit)```: adds a Hadamard (H) gate to the indicated qubit.\n",
        "- ```QuantumCircuit.cx(control, target)```: adds a Controlled NOT (CNOT or CX) gate with the given control qubit and target qubit.\n",
        "\n",
        "You'll also need to measure the value of the qubits at the end of the circuit and store those measured values into the classical bits of the circuit. For this, use the ```QuantumCircuit.measure()``` method."
      ]
    },
    {
      "cell_type": "code",
      "execution_count": 2,
      "metadata": {
        "colab": {
          "base_uri": "https://localhost:8080/",
          "height": 125
        },
        "id": "Dj1IgPQZu6iG",
        "outputId": "da54682f-6cd8-49d9-cfce-8ffc915ea3f6"
      },
      "outputs": [
        {
          "output_type": "execute_result",
          "data": {
            "text/plain": [
              "     ┌───┐     ┌─┐   \n",
              "q_0: ┤ H ├──■──┤M├───\n",
              "     └───┘┌─┴─┐└╥┘┌─┐\n",
              "q_1: ─────┤ X ├─╫─┤M├\n",
              "          └───┘ ║ └╥┘\n",
              "c: 2/═══════════╩══╩═\n",
              "                0  1 "
            ],
            "text/html": [
              "<pre style=\"word-wrap: normal;white-space: pre;background: #fff0;line-height: 1.1;font-family: &quot;Courier New&quot;,Courier,monospace\">     ┌───┐     ┌─┐   \n",
              "q_0: ┤ H ├──■──┤M├───\n",
              "     └───┘┌─┴─┐└╥┘┌─┐\n",
              "q_1: ─────┤ X ├─╫─┤M├\n",
              "          └───┘ ║ └╥┘\n",
              "c: 2/═══════════╩══╩═\n",
              "                0  1 </pre>"
            ]
          },
          "metadata": {},
          "execution_count": 2
        }
      ],
      "source": [
        "from qiskit import QuantumCircuit\n",
        "\n",
        "qc = QuantumCircuit(2, 2)\n",
        "\n",
        "## WRITE YOUR CODE BELOW HERE ##\n",
        "qc.h(0)\n",
        "qc.cx(0, 1)\n",
        "qc.measure([0, 1], [0, 1])\n",
        "# The following line draws your circuit in the notebook\n",
        "qc.draw()"
      ]
    },
    {
      "cell_type": "markdown",
      "metadata": {
        "id": "d2LwJczeu6iG"
      },
      "source": [
        "Given that this is a small circuit with only two qubits, we can run the circuit using a classical simulator. Qiskit 1.x provides simulators that run locally on your computer. These are implementations of the Primitives, basic programs in Qiskit that facilitate execution of your quantum circuits. There are two basic Primitives in Qiskit: 1) ```Sampler```, and 2) ```Estimator```. For now, let's focus on the ```Sampler```. This primitive can run a single circuit or a set of circuits, then return the results as a set of measured bitstrings. The ```Sampler``` will run your circuit multiple times, what is refered to as \"shots\". Because of the principles of quantum mechanics, we need to run the circuit multiple times to see all of the possible outcomes since any single circuit execution will only give one possible outcome.\n",
        "\n",
        "Starting in Qiskit 1.0, a new version of the Primitive programs was introduced, for now called the \"V2\" primitives. This introduced a new execution interface and new format for returning results from a set of executions. Circuits must be encapsulated within a ***Primitive Unified Block (PUB)***, basically a Python tuple containing the circuit and any parameters that go along with them. The ```run()``` function of the primitive then takes in an array of PUBs and executes each one. Results from execution are returned as a list containing one element for each PUB that was submitted.\n",
        "\n",
        "Qiskit 1.0 introduced new local simulators based on the new V2 primitives called ```StatevectorSampler``` and ```StatevectorEstimator```. You can use the ```StatevectorSampler``` to execute your Bell state circuit as in the following code cell."
      ]
    },
    {
      "cell_type": "code",
      "execution_count": 3,
      "metadata": {
        "id": "u7Aiw251u6iG"
      },
      "outputs": [],
      "source": [
        "from qiskit.primitives import StatevectorSampler\n",
        "\n",
        "sampler = StatevectorSampler()\n",
        "pub = (qc)\n",
        "job = sampler.run([pub], shots=1024)"
      ]
    },
    {
      "cell_type": "markdown",
      "metadata": {
        "id": "vYoAvqLXu6iG"
      },
      "source": [
        "To get the results of the execution from the returned ```job```, use the following code. Note that the ```result``` object is an list of results, one for each PUB. Since we only submitted one PUB to the ```sampler```, there is only one item in ```result``` at index ```0```. That item is a ```SamplerPubResult``` object that contains a ```data``` field, which in turn contains the measured results. Note that the circuit constructed for the Bell state contains a classical register called ```c```, which is contained within the ```data``` field. From ```c```, you can retrieve the number of times each outcome bitstring was measured using the ```get_counts()``` function."
      ]
    },
    {
      "cell_type": "code",
      "execution_count": 4,
      "metadata": {
        "colab": {
          "base_uri": "https://localhost:8080/"
        },
        "id": "CkvQySZPu6iG",
        "outputId": "7cd81f94-420b-4560-c3d7-ddb40d532874"
      },
      "outputs": [
        {
          "output_type": "execute_result",
          "data": {
            "text/plain": [
              "{'00': 513, '11': 511}"
            ]
          },
          "metadata": {},
          "execution_count": 4
        }
      ],
      "source": [
        "result = job.result()\n",
        "counts = result[0].data.c.get_counts()\n",
        "counts"
      ]
    },
    {
      "cell_type": "code",
      "execution_count": 11,
      "metadata": {
        "colab": {
          "base_uri": "https://localhost:8080/"
        },
        "id": "Q7nAJj6su6iH",
        "outputId": "b668c11e-b390-4107-affa-ec950a9c2f51"
      },
      "outputs": [
        {
          "output_type": "stream",
          "name": "stdout",
          "text": [
            "Error! The result object is not correctly formatted.\n"
          ]
        }
      ],
      "source": [
        "# SUBMIT JOB RESULT TO GRADER\n",
        "qsite24_grader_lab1ex1(result)"
      ]
    },
    {
      "cell_type": "markdown",
      "metadata": {
        "id": "5h3YrrkJu6iH"
      },
      "source": [
        "### Part 2: A more complex circuit - half-adder\n",
        "\n",
        "Let's build a more complicated quantum circuit: a half-adder. This circuit will add two 1-bit numbers together, ```a``` and ```b```, and produce a ```sum``` bit and a ```carry``` bit. This is a common circuit in classical digital computers, but here you will create the quantum version. The truth table for this circuit is as follows:\n",
        "\n",
        "| a | b | sum | carry |\n",
        "|---|---|-----|-------|\n",
        "| 0 | 0 | 0   | 0     |\n",
        "| 1 | 0 | 1   | 0     |\n",
        "| 0 | 1 | 1   | 0     |\n",
        "| 1 | 1 | 0   | 1     |\n",
        "\n",
        "As quantum circuits get more complex, it is useful to organize the qubits and classical bits to make the code more readable. Qiskit provides the ```QuantumRegister``` and ```ClassicalRegister``` classes that can help with this. A register is a grouping of one or more qubits/bits. In the following code you can use to create the half-adder circuit, registers are created for the input qubits ```a``` and ```b```, the output qubits ```sum``` and ```carry```, and classical bits ```c_sum``` and ```c_carry``` for the measurements. These registers are then added to a new ```QuantumCircuit``` object."
      ]
    },
    {
      "cell_type": "code",
      "execution_count": 5,
      "metadata": {
        "colab": {
          "base_uri": "https://localhost:8080/",
          "height": 217
        },
        "id": "OsUq8Acwu6iH",
        "outputId": "d5cd0c3e-3c40-4df7-bcde-d59f2f7ed472"
      },
      "outputs": [
        {
          "output_type": "execute_result",
          "data": {
            "text/plain": [
              "           \n",
              "        a: \n",
              "           \n",
              "        b: \n",
              "           \n",
              "      sum: \n",
              "           \n",
              "    carry: \n",
              "           \n",
              "  c_sum: 1/\n",
              "           \n",
              "c_carry: 1/\n",
              "           "
            ],
            "text/html": [
              "<pre style=\"word-wrap: normal;white-space: pre;background: #fff0;line-height: 1.1;font-family: &quot;Courier New&quot;,Courier,monospace\">           \n",
              "        a: \n",
              "           \n",
              "        b: \n",
              "           \n",
              "      sum: \n",
              "           \n",
              "    carry: \n",
              "           \n",
              "  c_sum: 1/\n",
              "           \n",
              "c_carry: 1/\n",
              "           </pre>"
            ]
          },
          "metadata": {},
          "execution_count": 5
        }
      ],
      "source": [
        "from qiskit import QuantumRegister, ClassicalRegister\n",
        "\n",
        "q_a = QuantumRegister(1, name='a')\n",
        "q_b = QuantumRegister(1, name='b')\n",
        "q_sum = QuantumRegister(1, name='sum')\n",
        "q_carry = QuantumRegister(1, name='carry')\n",
        "\n",
        "c_sum = ClassicalRegister(1, name='c_sum')\n",
        "c_carry = ClassicalRegister(1, name='c_carry')\n",
        "\n",
        "qc_adder = QuantumCircuit(q_a, q_b, q_sum, q_carry, c_sum, c_carry)\n",
        "\n",
        "qc_adder.draw()"
      ]
    },
    {
      "cell_type": "markdown",
      "metadata": {
        "id": "QFfJzxdju6iH"
      },
      "source": [
        "#### EXERCISE 2a\n",
        "\n",
        "Using the initial registers and circuit created above, build a circuit that implements the half-adder.\n",
        "\n",
        "With the qubits and classical bits organized into registers, you now need only specify the qubits and classical bits by their Python variables names instead of by the qubit number or classical bit number when adding quantum gates to the circuit. For instance,\n",
        "\n",
        "```\n",
        "qc_example.cx(q_reg1, q_reg2)\n",
        "```\n",
        "\n",
        "To build the circuit, the following method implementing a double-controlled NOT gate will be useful:\n",
        "\n",
        "- ```QuantumCircuit.ccx(control1, control2, target)```: adds a double-controlled NOT gate (aka Toffoli gate) with two control qubits and a target qubit. Note that you could also use the ```QuantumCircuit.mcx()```, which implements a multi-controlled NOT gate which can take an arbitrary number of control qubits.\n",
        "\n",
        "Be sure to measure the ```sum``` and ```carry``` qubits into the given corresponding classical registers."
      ]
    },
    {
      "cell_type": "code",
      "execution_count": 6,
      "metadata": {
        "colab": {
          "base_uri": "https://localhost:8080/",
          "height": 217
        },
        "id": "V8v2kLabu6iH",
        "outputId": "8396f424-d402-43f3-ebec-4a0ac48c3f57"
      },
      "outputs": [
        {
          "output_type": "execute_result",
          "data": {
            "text/plain": [
              "                                \n",
              "        a: ──■─────────■────────\n",
              "             │         │        \n",
              "        b: ──┼────■────■────────\n",
              "           ┌─┴─┐┌─┴─┐  │  ┌─┐   \n",
              "      sum: ┤ X ├┤ X ├──┼──┤M├───\n",
              "           └───┘└───┘┌─┴─┐└╥┘┌─┐\n",
              "    carry: ──────────┤ X ├─╫─┤M├\n",
              "                     └───┘ ║ └╥┘\n",
              "  c_sum: 1/════════════════╩══╬═\n",
              "                           0  ║ \n",
              "c_carry: 1/═══════════════════╩═\n",
              "                              0 "
            ],
            "text/html": [
              "<pre style=\"word-wrap: normal;white-space: pre;background: #fff0;line-height: 1.1;font-family: &quot;Courier New&quot;,Courier,monospace\">                                \n",
              "        a: ──■─────────■────────\n",
              "             │         │        \n",
              "        b: ──┼────■────■────────\n",
              "           ┌─┴─┐┌─┴─┐  │  ┌─┐   \n",
              "      sum: ┤ X ├┤ X ├──┼──┤M├───\n",
              "           └───┘└───┘┌─┴─┐└╥┘┌─┐\n",
              "    carry: ──────────┤ X ├─╫─┤M├\n",
              "                     └───┘ ║ └╥┘\n",
              "  c_sum: 1/════════════════╩══╬═\n",
              "                           0  ║ \n",
              "c_carry: 1/═══════════════════╩═\n",
              "                              0 </pre>"
            ]
          },
          "metadata": {},
          "execution_count": 6
        }
      ],
      "source": [
        "## WRITE YOUR CODE BELOW HERE ##\n",
        "\n",
        "qc_adder.cx(q_a, q_sum)\n",
        "qc_adder.cx(q_b, q_sum)\n",
        "\n",
        "qc_adder.ccx(q_a, q_b, q_carry)\n",
        "\n",
        "qc_adder.measure(q_sum, c_sum)\n",
        "qc_adder.measure(q_carry, c_carry)\n",
        "\n",
        "qc_adder.draw()"
      ]
    },
    {
      "cell_type": "markdown",
      "metadata": {
        "id": "hCqyndcZu6iH"
      },
      "source": [
        "Now run your circuit and get the result using the following code. The ```data``` field of the ```result``` object will be printed out. Note that that there are two items in the contained data: ```c_sum``` and ```c_carry```, which correspond to the classical registers that were defined."
      ]
    },
    {
      "cell_type": "code",
      "execution_count": 7,
      "metadata": {
        "colab": {
          "base_uri": "https://localhost:8080/"
        },
        "id": "OLFELDjau6iH",
        "outputId": "a2bc8936-9bd5-4462-bb1d-c1da6167791d"
      },
      "outputs": [
        {
          "output_type": "execute_result",
          "data": {
            "text/plain": [
              "dict_items([('c_sum', BitArray(<shape=(), num_shots=1024, num_bits=1>)), ('c_carry', BitArray(<shape=(), num_shots=1024, num_bits=1>))])"
            ]
          },
          "metadata": {},
          "execution_count": 7
        }
      ],
      "source": [
        "sampler = StatevectorSampler()\n",
        "pub = (qc_adder)\n",
        "job = sampler.run([pub], shots=1024)\n",
        "result = job.result()\n",
        "result[0].data.items()"
      ]
    },
    {
      "cell_type": "markdown",
      "metadata": {
        "id": "mhk7BZ29u6iH"
      },
      "source": [
        "You can work with these data items and read out the data they contain. Below, the code prints out the measurement counts."
      ]
    },
    {
      "cell_type": "code",
      "execution_count": 8,
      "metadata": {
        "colab": {
          "base_uri": "https://localhost:8080/"
        },
        "id": "zEBxsI2Du6iH",
        "outputId": "1d1b53e6-4e02-4584-b380-d3ab8d9705fc"
      },
      "outputs": [
        {
          "output_type": "stream",
          "name": "stdout",
          "text": [
            "c_sum:   {'0': 1024}\n",
            "c_carry: {'0': 1024}\n"
          ]
        }
      ],
      "source": [
        "print('c_sum:  ', result[0].data.c_sum.get_counts())\n",
        "print('c_carry:', result[0].data.c_carry.get_counts())"
      ]
    },
    {
      "cell_type": "code",
      "execution_count": 12,
      "metadata": {
        "colab": {
          "base_uri": "https://localhost:8080/"
        },
        "id": "84O_ajoqu6iH",
        "outputId": "b70e975c-879f-4074-b28c-5f620ca494f4"
      },
      "outputs": [
        {
          "output_type": "stream",
          "name": "stdout",
          "text": [
            "Congratulations! 🎉 Your answer is correct.\n"
          ]
        }
      ],
      "source": [
        "## SUBMIT CIRCUIT TO GRADER\n",
        "qsite24_grader_lab1ex2a(qc_adder)"
      ]
    },
    {
      "cell_type": "markdown",
      "metadata": {
        "id": "JoSvLiGzu6iH"
      },
      "source": [
        "As you should see, the output for the sum and carry registers is always 0. This makes sense given the truth table above and the fact that all qubits in the circuit are initialized in state 0 by default at the beginning of the execution.\n",
        "\n",
        "#### EXERCISE 2b\n",
        "\n",
        "Now, let's see what happens when the input is changed. For this next task, create a quantum circuit that changes the value of the inputs such that ```a=1``` and ```b=1```. The following method for the X gate will be useful:\n",
        "\n",
        "- ```QuantumCircuit.x(qubit)```: adds an X-gate to the given qubit. The X-gate flips the state of the qubit from 0 to 1, or from 1 to 0."
      ]
    },
    {
      "cell_type": "code",
      "execution_count": 13,
      "metadata": {
        "colab": {
          "base_uri": "https://localhost:8080/"
        },
        "id": "AILpVDsNu6iH",
        "outputId": "7a198e0f-711d-4f20-89bc-2975bbadfc27"
      },
      "outputs": [
        {
          "output_type": "execute_result",
          "data": {
            "text/plain": [
              "<qiskit.circuit.instructionset.InstructionSet at 0x7e7f5507cd30>"
            ]
          },
          "metadata": {},
          "execution_count": 13
        }
      ],
      "source": [
        "qc_adder_in = QuantumCircuit(q_a, q_b)\n",
        "\n",
        "## WRITE YOUR CODE BELOW HERE ##\n",
        "qc_adder_in.x(q_a)\n",
        "qc_adder_in.x(q_b)\n"
      ]
    },
    {
      "cell_type": "markdown",
      "metadata": {
        "id": "kxUTd8c5u6iH"
      },
      "source": [
        "Now we have two quantum circuits: one that implements the half-adder, and the other that sets the input values. These circuits can be combined by using the ```compose()``` method. In the code below, the ```qc_adder_in``` circuit is placed in front of the original ```qc_adder``` circuit, which creates a new circuit object ```qc_adder_new```."
      ]
    },
    {
      "cell_type": "code",
      "execution_count": 14,
      "metadata": {
        "colab": {
          "base_uri": "https://localhost:8080/",
          "height": 217
        },
        "id": "xhIf6Hydu6iH",
        "outputId": "7663ae5b-11a8-410c-a2ed-03d10df3b9b4"
      },
      "outputs": [
        {
          "output_type": "execute_result",
          "data": {
            "text/plain": [
              "           ┌───┐                     \n",
              "        a: ┤ X ├──■─────────■────────\n",
              "           ├───┤  │         │        \n",
              "        b: ┤ X ├──┼────■────■────────\n",
              "           └───┘┌─┴─┐┌─┴─┐  │  ┌─┐   \n",
              "      sum: ─────┤ X ├┤ X ├──┼──┤M├───\n",
              "                └───┘└───┘┌─┴─┐└╥┘┌─┐\n",
              "    carry: ───────────────┤ X ├─╫─┤M├\n",
              "                          └───┘ ║ └╥┘\n",
              "  c_sum: 1/═════════════════════╩══╬═\n",
              "                                0  ║ \n",
              "c_carry: 1/════════════════════════╩═\n",
              "                                   0 "
            ],
            "text/html": [
              "<pre style=\"word-wrap: normal;white-space: pre;background: #fff0;line-height: 1.1;font-family: &quot;Courier New&quot;,Courier,monospace\">           ┌───┐                     \n",
              "        a: ┤ X ├──■─────────■────────\n",
              "           ├───┤  │         │        \n",
              "        b: ┤ X ├──┼────■────■────────\n",
              "           └───┘┌─┴─┐┌─┴─┐  │  ┌─┐   \n",
              "      sum: ─────┤ X ├┤ X ├──┼──┤M├───\n",
              "                └───┘└───┘┌─┴─┐└╥┘┌─┐\n",
              "    carry: ───────────────┤ X ├─╫─┤M├\n",
              "                          └───┘ ║ └╥┘\n",
              "  c_sum: 1/═════════════════════╩══╬═\n",
              "                                0  ║ \n",
              "c_carry: 1/════════════════════════╩═\n",
              "                                   0 </pre>"
            ]
          },
          "metadata": {},
          "execution_count": 14
        }
      ],
      "source": [
        "qc_adder_new = qc_adder.compose(qc_adder_in, front=True)\n",
        "qc_adder_new.draw()"
      ]
    },
    {
      "cell_type": "markdown",
      "metadata": {
        "id": "E3fd2Td9u6iH"
      },
      "source": [
        "Now run the circuit using the code below. What is the output? Is it consistent with the truth table? If so, submit the result object to the grader."
      ]
    },
    {
      "cell_type": "code",
      "execution_count": 15,
      "metadata": {
        "colab": {
          "base_uri": "https://localhost:8080/"
        },
        "id": "Id7cBLLqu6iH",
        "outputId": "a78e2b05-2b4b-445e-bf4b-b2d557e95202"
      },
      "outputs": [
        {
          "output_type": "stream",
          "name": "stdout",
          "text": [
            "c_sum:   {'0': 1024}\n",
            "c_carry: {'1': 1024}\n"
          ]
        }
      ],
      "source": [
        "sampler = StatevectorSampler()\n",
        "pub = (qc_adder_new)\n",
        "job = sampler.run([pub], shots=1024)\n",
        "result = job.result()\n",
        "print('c_sum:  ', result[0].data.c_sum.get_counts())\n",
        "print('c_carry:', result[0].data.c_carry.get_counts())"
      ]
    },
    {
      "cell_type": "code",
      "execution_count": 16,
      "metadata": {
        "colab": {
          "base_uri": "https://localhost:8080/"
        },
        "id": "w5KdBZ5hu6iH",
        "outputId": "ac71c7c0-c24f-4a86-b1d3-6da16af5f6d4"
      },
      "outputs": [
        {
          "output_type": "stream",
          "name": "stdout",
          "text": [
            "Congratulations! 🎉 Your answer is correct.\n"
          ]
        }
      ],
      "source": [
        "# SUBMIT result OBJECT FOR a=1 and b=1\n",
        "qsite24_grader_lab1ex2b(result)"
      ]
    },
    {
      "cell_type": "markdown",
      "metadata": {
        "id": "1C0vllECu6iH"
      },
      "source": [
        "### Part 3 - Executing circuits on real hardware"
      ]
    },
    {
      "cell_type": "markdown",
      "metadata": {
        "id": "KjfhjIhGu6iH"
      },
      "source": [
        "So far, you have been using the local classical simulator to execute quantum circuits on your computer. While it is fine to run small circuits small circuits with just a few qubits on a simulator, it would be increasingly difficult to execute much larger circuits with many more qubits in a simulator. Generally, for each qubit added to a circuit, the memory needed to simulate the circuit on a classical computer doubles. This is one of the reasons why real quantum computing hardware is needed: to run circuits that are too large to simulate on a classical machine.\n",
        "\n",
        "In this particular lab, you will run your Bell state circuit on a real quantum processor from IBM! To facilitate this, use the Qiskit Runtime client package that you installed. The key class you'll need is the ```QiskitRuntimeService```, which is imported below."
      ]
    },
    {
      "cell_type": "code",
      "execution_count": null,
      "metadata": {
        "id": "zeTUAFJOu6iH"
      },
      "outputs": [],
      "source": [
        "from qiskit_ibm_runtime import QiskitRuntimeService"
      ]
    },
    {
      "cell_type": "markdown",
      "metadata": {
        "id": "Yo8B3CyTu6iI"
      },
      "source": [
        "To access systems in the IBM Quantum Platform, you'll need your account information. Log into your account at https://quantum.ibm.com and look for the \"API token\" on the Dashboard page. Copy this token and paste it into the following code cell in place of \"<MY_IBM_QUANTUM_TOKEN>\". The ```save_account()``` method of the ```QiskitRuntimeService``` class will save the token onto a configuration file on your computer, which will then be picked up by other methods of the Qiskit Runtime client package automatically so that you don't have to input the API token over again. **We advise you to then delete your token from this notebook (or remove the following cell entirely) so that you don't accidentally give away your access token to someone else.**"
      ]
    },
    {
      "cell_type": "code",
      "execution_count": null,
      "metadata": {
        "id": "iHQYZWr-u6iI"
      },
      "outputs": [],
      "source": [
        "QiskitRuntimeService.save_account(\n",
        "    channel=\"ibm_quantum\",\n",
        "    token=\"<MY_IBM_QUANTUM_TOKEN>\",\n",
        "    set_as_default=True,\n",
        "    # Use `overwrite=True` if you're updating your token.\n",
        "    overwrite=False,\n",
        ")"
      ]
    },
    {
      "cell_type": "markdown",
      "metadata": {
        "id": "p_GmMvGyu6iI"
      },
      "source": [
        "Once your account information is set, a service object can be created and the list of actual systems or \"backends\" available can be printed as shown in the following cell."
      ]
    },
    {
      "cell_type": "code",
      "execution_count": null,
      "metadata": {
        "id": "8HrjS68Fu6iI"
      },
      "outputs": [],
      "source": [
        "service = QiskitRuntimeService(channel=\"ibm_quantum\")\n",
        "service.backends()"
      ]
    },
    {
      "cell_type": "markdown",
      "metadata": {
        "id": "0kBV9_w3u6iI"
      },
      "source": [
        "You can choose any of these backends. At time of writing, all of these systems contain one of IBM's 127-qubit Eagle R3 quantum processors. The code below plots the layout of the qubits for this processor. We suggest that you select a system that is less busy than others. You can view how many pending jobs have been submitted to the queuing system for each quantum computer by visiting here: https://quantum.ibm.com/services/resources?view=table"
      ]
    },
    {
      "cell_type": "code",
      "execution_count": null,
      "metadata": {
        "id": "0zADY-j8u6iI"
      },
      "outputs": [],
      "source": [
        "from qiskit.visualization import plot_gate_map\n",
        "\n",
        "backend = service.backend('ibm_brisbane')\n",
        "plot_gate_map(backend, figsize=(7, 7), font_size=14)"
      ]
    },
    {
      "cell_type": "markdown",
      "metadata": {
        "id": "B5a2zqemu6iI"
      },
      "source": [
        "**Transpiling**: Before you can submit a circuit to a real quantum processor, it first needs to be translated into a form that can be run on the actual hardware. This is because the actual hardware only implements a subset of quantum gates referred to as **basis gates**. Gates you use when building your circuits are translated into their equivalent sequences of basis gates as part of the **transpilation** process. Note that different processor models, generations, and system may implement slightly different sets of basis gates, so your circuits must be transpiled for a specific backend system. The code below shows how to use the ```transpile``` method in Qiskit to translate the circuit."
      ]
    },
    {
      "cell_type": "code",
      "execution_count": null,
      "metadata": {
        "id": "VsbrbPEuu6iI"
      },
      "outputs": [],
      "source": [
        "from qiskit import transpile\n",
        "\n",
        "qc_transpiled = transpile(qc, backend)\n",
        "qc_transpiled.draw(idle_wires=False)"
      ]
    },
    {
      "cell_type": "markdown",
      "metadata": {
        "id": "UU5h-Jthu6iI"
      },
      "source": [
        "As you can see, any H or CNOT gate that you implemented in your circuit has been translated into several basis gates.\n",
        "\n",
        "Next, you will execute the transpiled circuit on real hardware. We again use the ```Sampler``` primitive, but this time from the ```qiskit_ibm_runtime``` package. Note that the \"V2\" version of the ```Sampler``` is used, which is more current. When the ```run()``` method is execute, your transpiled circuit is sent to the IBM Quantum Platform and into the job queue for the backend system you chose."
      ]
    },
    {
      "cell_type": "code",
      "execution_count": null,
      "metadata": {
        "id": "2QbRVBc2u6iI"
      },
      "outputs": [],
      "source": [
        "from qiskit_ibm_runtime import SamplerV2 as Sampler\n",
        "\n",
        "sampler = Sampler(backend)\n",
        "pub = (qc_transpiled)\n",
        "job = sampler.run([pub], shots=1024)\n",
        "print(\"Job ID:\", job.job_id())"
      ]
    },
    {
      "cell_type": "markdown",
      "metadata": {
        "id": "lM2525g8u6iI"
      },
      "source": [
        "Depending on how busy the system is, it may take a few minutes for your circuit to be executed on the real hardware. You can monitor the status of your job from your Web dashboard on the IBM Quantum Platform here: https://quantum.ibm.com/workloads (look for the job ID printed above). The job status can also be retrieved by executing the line in the following code cell."
      ]
    },
    {
      "cell_type": "code",
      "execution_count": null,
      "metadata": {
        "id": "QijcpdQyu6iL"
      },
      "outputs": [],
      "source": [
        "job.status()"
      ]
    },
    {
      "cell_type": "markdown",
      "metadata": {
        "id": "dAr5X-v5u6iL"
      },
      "source": [
        "Once you see that the job is in the \"DONE\" state, you can retrieve the results same as before from the job object."
      ]
    },
    {
      "cell_type": "code",
      "execution_count": null,
      "metadata": {
        "id": "3bSb2V7Xu6iL"
      },
      "outputs": [],
      "source": [
        "result = job.result()\n",
        "counts = result[0].data.c.get_counts()\n",
        "counts"
      ]
    },
    {
      "cell_type": "markdown",
      "metadata": {
        "id": "OebAziNku6iL"
      },
      "source": [
        "Do you notice anything different about the results when running on real hardware versus the local simulator? You'll likely see that there are additional values measured on the real hardware. This is the result of noise and errors in the real hardware. However, these additional values should be small relative to the expected values for the Bell state, so in this case we can ignore those results."
      ]
    },
    {
      "cell_type": "code",
      "execution_count": null,
      "metadata": {
        "id": "UYH_Qdelu6iL"
      },
      "outputs": [],
      "source": [
        "from qiskit.visualization import plot_histogram\n",
        "\n",
        "plot_histogram(counts)"
      ]
    },
    {
      "cell_type": "markdown",
      "metadata": {
        "id": "V-A0isZ9u6iL"
      },
      "source": [
        "### Congratulations!\n",
        "\n",
        "You have made it to the end of the first lab. Here is a summary of what you learned about Qiskit in this lab:\n",
        "\n",
        "- creating a quantum circuit\n",
        "- basic quantum gates such as X, H, and CNOT\n",
        "- running a quantum circuit using a local simulator and real hardware\n",
        "\n",
        "With these learnings, you are ready to tackle challenges in the next labs. All the best!"
      ]
    }
  ],
  "metadata": {
    "kernelspec": {
      "display_name": "qiskit_1.x",
      "language": "python",
      "name": "python3"
    },
    "language_info": {
      "codemirror_mode": {
        "name": "ipython",
        "version": 3
      },
      "file_extension": ".py",
      "mimetype": "text/x-python",
      "name": "python",
      "nbconvert_exporter": "python",
      "pygments_lexer": "ipython3",
      "version": "3.12.4"
    },
    "colab": {
      "provenance": []
    }
  },
  "nbformat": 4,
  "nbformat_minor": 0
}